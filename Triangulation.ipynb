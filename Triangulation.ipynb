{
 "cells": [
  {
   "cell_type": "markdown",
   "metadata": {},
   "source": [
    "# Docs, sources\n",
    "\n",
    "https://rufat.be/triangle/index.html - library used for triangulation\n",
    "\n",
    "https://stackoverflow.com/a/50974391/10093288 - this function can be used for drawing circles through three points\n",
    "\n",
    "https://en.wikipedia.org/wiki/Constrained_Delaunay_triangulation - Constrained Delaunay triangulation (definition)\n",
    "\n",
    "https://rufat.be/triangle/definitions.html - Delauanay triangulation related definitions\n",
    "\n",
    "https://en.wikipedia.org/wiki/Circumscribed_circle - properties of circumscribed circle (theory)"
   ]
  },
  {
   "cell_type": "code",
   "execution_count": 315,
   "metadata": {},
   "outputs": [
    {
     "name": "stdout",
     "output_type": "stream",
     "text": [
      "Requirement already satisfied: triangle in c:\\users\\temp\\anaconda3\\lib\\site-packages (20190115.3)\n",
      "Requirement already satisfied: numpy in c:\\users\\temp\\anaconda3\\lib\\site-packages (from triangle) (1.14.3)\n",
      "Requirement already satisfied: more-itertools in c:\\users\\temp\\anaconda3\\lib\\site-packages (4.1.0)\n",
      "Requirement already satisfied: six<2.0.0,>=1.0.0 in c:\\users\\temp\\anaconda3\\lib\\site-packages (from more-itertools) (1.12.0)\n"
     ]
    }
   ],
   "source": [
    "!pip install triangle\n",
    "!pip install more-itertools"
   ]
  },
  {
   "cell_type": "code",
   "execution_count": 2,
   "metadata": {},
   "outputs": [],
   "source": [
    "import matplotlib.pyplot as plt\n",
    "import numpy as np\n",
    "import itertools as itr\n",
    "import triangle as tr\n",
    "import math\n",
    "import scipy.linalg"
   ]
  },
  {
   "cell_type": "markdown",
   "metadata": {},
   "source": [
    "### Defining input data "
   ]
  },
  {
   "cell_type": "code",
   "execution_count": 3,
   "metadata": {},
   "outputs": [],
   "source": [
    "polygonVertices = np.array([[0, 1], [1, 0], [3, 0], [0, 3], [-3, 0], [-1, 0]])\n",
    "polygonHolesPoints = np.array([[0,0]])\n",
    "polygonFrame = np.array([[0,1],[1,2],[2,3],[3,4],[4,5],[5,0]])\n",
    "\n",
    "inputPolygonInfo = dict(vertices=polygonVertices, \n",
    "                        holes=polygonHolesPoints, #not reqiered parameter in our case\n",
    "                        segments=polygonFrame)"
   ]
  },
  {
   "cell_type": "markdown",
   "metadata": {},
   "source": [
    "# Triagulation options\n",
    "**D** - Conforming Delaunay: use this switch if you want all triangles in the mesh to be Delaunay, and not just constrained Delaunay; or if you want to ensure that all Voronoi vertices lie within the triangulation.\n",
    "\n",
    "**p** - Triangulates a Planar Straight Line Graph.\n"
   ]
  },
  {
   "cell_type": "markdown",
   "metadata": {},
   "source": [
    "#### Styles"
   ]
  },
  {
   "cell_type": "code",
   "execution_count": 6,
   "metadata": {},
   "outputs": [],
   "source": [
    "circleBorderColor = '0'\n",
    "circleInnerColor = \"none\""
   ]
  },
  {
   "cell_type": "markdown",
   "metadata": {},
   "source": [
    "## Data"
   ]
  },
  {
   "cell_type": "code",
   "execution_count": 118,
   "metadata": {},
   "outputs": [],
   "source": [
    "A = np.array([[4, 0], [0, 3]])\n",
    "d = 0\n",
    "f = 1\n",
    "\n",
    "m_e = np.array([[2, 1, 1],\n",
    "                [1, 2, 1],\n",
    "                [1, 1, 2]])\n",
    "\n",
    "epsilon = 10e-6"
   ]
  },
  {
   "cell_type": "markdown",
   "metadata": {},
   "source": [
    "### Utility functions"
   ]
  },
  {
   "cell_type": "code",
   "execution_count": 134,
   "metadata": {},
   "outputs": [],
   "source": [
    "def define_circle(p1, p2, p3, epsilon = 1.0e-6):\n",
    "    \"\"\"\n",
    "    Returns the center and radius of the circle passing the given 3 points.\n",
    "    In case the 3 points form a line, returns (None, infinity).\n",
    "    \"\"\"\n",
    "    temp = p2[0] * p2[0] + p2[1] * p2[1]\n",
    "    bc = (p1[0] * p1[0] + p1[1] * p1[1] - temp) / 2\n",
    "    cd = (temp - p3[0] * p3[0] - p3[1] * p3[1]) / 2\n",
    "    \n",
    "    determinant = ((p1[0] - p2[0]) * (p2[1] - p3[1]) \n",
    "                 - (p2[0] - p3[0]) * (p1[1] - p2[1]))\n",
    "\n",
    "    if abs(determinant) < epsilon:\n",
    "        return (None, np.inf)\n",
    "\n",
    "    # Center of the circle\n",
    "    centerX = (bc * (p2[1] - p3[1]) \n",
    "             - cd * (p1[1] - p2[1])) / determinant\n",
    "    centerY = (cd * (p1[0] - p2[0]) \n",
    "             - bc * (p2[0] - p3[0])) / determinant\n",
    "\n",
    "    radius = np.sqrt((centerX - p1[0]) ** 2 + (centerY - p1[1]) ** 2)\n",
    "    return ((centerX, centerY), radius) \n",
    "\n",
    "# Check if c is between (a, b)\n",
    "def is_between(a, b, c):\n",
    "    crossproduct = (c[1] - a[1]) * (b[0] - a[0]) - (c[0] - a[0]) * (b[1] - a[1])\n",
    "\n",
    "    # compare versus epsilon for floating point values, or != 0 if using integers\n",
    "    if abs(crossproduct) > epsilon:\n",
    "        return False\n",
    "\n",
    "    dotproduct = (c[0] - a[0]) * (b[0] - a[0]) + (c[1] - a[1])*(b[1] - a[1])\n",
    "    if dotproduct < 0:\n",
    "        return False\n",
    "\n",
    "    squaredlengthba = (b[0] - a[0])*(b[0] - a[0]) + (b[1] - a[1])*(b[1] - a[1])\n",
    "    if dotproduct > squaredlengthba:\n",
    "        return False\n",
    "\n",
    "    return True\n",
    "\n",
    "def draw_circles(circleInfo):\n",
    "    vertecies = circleInfo['vertices']\n",
    "    triangles = circleInfo['triangles']\n",
    "    \n",
    "    for triangle in triangles:\n",
    "        vertex1 = vertecies[triangle[0]]\n",
    "        vertex2 = vertecies[triangle[1]]\n",
    "        vertex3 = vertecies[triangle[2]]\n",
    "        center, radius = define_circle(vertex1, vertex2, vertex3)\n",
    "        if center is not None:\n",
    "            circle = plt.Circle(center, radius, clip_on = False)\n",
    "\n",
    "            circle.set_edgecolor(circleBorderColor)\n",
    "            circle.set_facecolor(circleInnerColor)\n",
    "\n",
    "            plt.gcf().gca().add_artist(circle)\n",
    "    \n",
    "def get_triangulation_result(polygonInfo, options=''):\n",
    "    trinagulationResult = tr.triangulate(polygonInfo, options)\n",
    "    tr.compare(plt, inputPolygonInfo, trinagulationResult)\n",
    "    draw_circles(trinagulationResult)\n",
    "    \n",
    "    triangles = trinagulationResult['triangles']\n",
    "    vertices = trinagulationResult['vertices']\n",
    "    \n",
    "    #print(triangles)\n",
    "    #print(vertices)\n",
    "    \n",
    "    n = (vertices).shape[0]\n",
    "    #print('n', n)\n",
    "    \n",
    "    A_h = np.zeros((n, n))\n",
    "    f_h = np.zeros((n, 1))\n",
    "    \n",
    "    return trinagulationResult, A_h, f_h\n",
    "\n",
    "def find_boundary_points(vertices, i, j, m, boundary = set()):\n",
    "    for q in range(0, polygonVertices.shape[0]):\n",
    "        boundary.add(tuple(polygonVertices[q]))\n",
    "\n",
    "        for k in range(0, polygonVertices.shape[0]):\n",
    "            for ind in [i, j, m]:\n",
    "                if(k != q and \n",
    "                   (polygonVertices[q] != list(vertices[ind])).all() and \n",
    "                   (polygonVertices[k] != list(vertices[ind])).all() and \n",
    "                   is_between(polygonVertices[q], polygonVertices[k], list(vertices[ind]))):\n",
    "                    boundary.add(tuple(vertices[ind]))\n",
    "\n",
    "    for q in range(0, len(boundary)):\n",
    "        for k in range(0, len(boundary)):\n",
    "            for ind in [i, j, m]:\n",
    "                if(k != q and \n",
    "                   (list(boundary)[q] != list(vertices[ind])) and \n",
    "                   (list(boundary)[k] != list(vertices[ind])) and \n",
    "                   is_between(list(boundary)[q], list(boundary)[k], list(vertices[ind]))):\n",
    "                    boundary.add(tuple(vertices[ind]))\n",
    "                    \n",
    "    return sorted(boundary)\n",
    "                        \n",
    "def find_U(triangulationResult, A_h, f_h):\n",
    "    triangles = triangulationResult['triangles']\n",
    "    vertices = triangulationResult['vertices']\n",
    "    \n",
    "    boundarySet = set()\n",
    "    \n",
    "    p = 0\n",
    "    for triangle in triangles:\n",
    "        if(p + 3 == f_h.shape[0]):\n",
    "            break;\n",
    "            \n",
    "        i = triangle[0]\n",
    "        j = triangle[1]\n",
    "        m = triangle[2]\n",
    "    \n",
    "        boundary = find_boundary_points(vertices, i, j, m, boundarySet)\n",
    "        \n",
    "        a = np.array([[1, vertices[i, 0], vertices[i, 1]], \n",
    "                      [1, vertices[j, 0], vertices[j, 1]],\n",
    "                      [1, vertices[m, 0], vertices[m, 1]]])\n",
    "        delta = np.linalg.det(a)\n",
    "\n",
    "        a_i = vertices[j, 0] * vertices[m, 1] - vertices[j, 1] * vertices[m, 0]\n",
    "        \n",
    "        b_i = vertices[j, 1] - vertices[m, 1]\n",
    "        b_j = vertices[m, 1] - vertices[i, 1]\n",
    "        b_m = vertices[i, 1] - vertices[j, 1]\n",
    "        \n",
    "        c_i = vertices[m, 0] - vertices[j, 0]\n",
    "        c_j = vertices[i, 0] - vertices[m, 0]\n",
    "        c_m = vertices[j, 0] - vertices[i, 0]\n",
    "\n",
    "        k = np.array([[A[0, 0] * b_i**2 + A[1, 1] * c_i**2, \n",
    "                       A[0, 0] * b_i * b_j + A[1, 1] * c_i * c_j, \n",
    "                       A[0, 0] * b_i * b_m + A[1, 1] * c_i * c_m],\n",
    "                      \n",
    "                      [A[0, 0] * b_i * b_j + A[1, 1] * c_i * c_j,\n",
    "                       A[0, 0] * b_i**2 + A[1, 1] * c_i**2,\n",
    "                       A[0, 0] * b_j * b_m + A[1, 1] * c_j * c_m],\n",
    "                      \n",
    "                      [A[0, 0] * b_i * b_m + A[1, 1] * c_i * c_m, \n",
    "                       A[0, 0] * b_j * b_m + A[1, 1] * c_j * c_m,\n",
    "                       A[0, 0] * b_i**2 + A[1, 1] * c_i**2]])\n",
    "        \n",
    "        K_e = k / (2 * delta)\n",
    "        M_e = d * delta * m_e / 24\n",
    "        Q_e = delta * f * np.array([f, f, f])[np.newaxis].T / 6\n",
    "        \n",
    "        #A_h[p:p + 3, p:p + 3] = A_h[p:p + 3, p:p + 3] + K_e\n",
    "        #f_h[p:p + 3] = f_h[p:p + 3] + Q_e\n",
    "        \n",
    "        A_h[i, i] = A_h[i, i] + K_e[0, 0] + M_e[0, 0]\n",
    "        A_h[i, j] = A_h[i, j] + K_e[0, 1] + M_e[0, 1]\n",
    "        A_h[i, m] = A_h[i, m] + K_e[0, 2] + M_e[0, 2]\n",
    "        \n",
    "        A_h[j, i] = A_h[j, i] + K_e[1, 0] + M_e[1, 0]\n",
    "        A_h[j, j] = A_h[j, j] + K_e[1, 1] + M_e[1, 1]\n",
    "        A_h[j, m] = A_h[j, m] + K_e[1, 2] + M_e[1, 2]\n",
    "        \n",
    "        A_h[m, i] = A_h[m, i] + K_e[2, 0] + M_e[2, 0]\n",
    "        A_h[m, j] = A_h[m, j] + K_e[2, 1] + M_e[2, 1]\n",
    "        A_h[m, m] = A_h[m, m] + K_e[2, 2] + M_e[2, 2]\n",
    "        \n",
    "        f_h[i] = f_h[i] + Q_e[0]\n",
    "        f_h[j] = f_h[j] + Q_e[1]\n",
    "        f_h[m] = f_h[m] + Q_e[2]\n",
    "        \n",
    "        p = p + 1\n",
    "        \n",
    "    #print('A: ', A_h)\n",
    "    #print('f: ', f_h\n",
    "    \n",
    "    print('Boundary: ', boundary, '\\n')\n",
    "    \n",
    "    U = np.linalg.solve(A_h, f_h)\n",
    "    return U"
   ]
  },
  {
   "cell_type": "markdown",
   "metadata": {},
   "source": [
    "## Triangulating and showing results"
   ]
  },
  {
   "cell_type": "code",
   "execution_count": 135,
   "metadata": {},
   "outputs": [
    {
     "name": "stdout",
     "output_type": "stream",
     "text": [
      "Boundary:  [(-3, 0), (-2.2928932188134525, 0.7071067811865475), (-2.0, 0.0), (-1.5, 1.5), (-1, 0), (-0.75, 2.25), (-0.5, 0.5), (0, 1), (0, 3), (0.5, 0.5), (0.7928932188134522, 2.207106781186548), (1, 0), (1.5857864376269046, 1.4142135623730954), (2.0, 0.0), (2.2928932188134525, 0.7071067811865475), (3, 0)] \n",
      "\n",
      "U:  [[ 9.46813121]\n",
      " [10.30771574]\n",
      " [ 4.39515784]\n",
      " [15.71817293]\n",
      " [ 4.54615364]\n",
      " [ 6.42175753]\n",
      " [ 9.49623826]\n",
      " [ 5.44791234]\n",
      " [ 6.07108379]\n",
      " [ 9.80710236]\n",
      " [ 6.46760015]\n",
      " [ 6.91490372]\n",
      " [ 8.48070186]\n",
      " [ 5.65320415]\n",
      " [ 6.46178236]\n",
      " [ 6.41168976]\n",
      " [17.32269632]\n",
      " [14.494362  ]\n",
      " [10.92207322]\n",
      " [ 6.13673719]\n",
      " [19.85374004]]\n"
     ]
    },
    {
     "data": {
      "image/png": "[encoded data removed]",
      "text/plain": [
       "<Figure size 432x216 with 2 Axes>"
      ]
     },
     "metadata": {},
     "output_type": "display_data"
    }
   ],
   "source": [
    "(v, A_h, f_h) = get_triangulation_result(inputPolygonInfo, 'Dpa0.5')\n",
    "\n",
    "U = find_U(v, A_h, f_h)\n",
    "print('U: ', U)"
   ]
  },
  {
   "cell_type": "code",
   "execution_count": 136,
   "metadata": {},
   "outputs": [
    {
     "name": "stdout",
     "output_type": "stream",
     "text": [
      "Boundary:  [(-3, 0), (-1.5, 1.5), (-1, 0), (0, 1), (0, 3), (1, 0), (1.5857864376269046, 1.4142135623730954), (3, 0)] \n",
      "\n",
      "U:  [[3.91552252]\n",
      " [3.84752638]\n",
      " [2.57937381]\n",
      " [1.93897602]\n",
      " [2.07933719]\n",
      " [3.14480979]\n",
      " [3.47866861]\n",
      " [2.84069821]]\n"
     ]
    },
    {
     "data": {
      "image/png": "[encoded data removed]",
      "text/plain": [
       "<Figure size 432x216 with 2 Axes>"
      ]
     },
     "metadata": {},
     "output_type": "display_data"
    }
   ],
   "source": [
    "(v, A_h, f_h) = get_triangulation_result(inputPolygonInfo, 'Dpa')\n",
    "\n",
    "U = find_U(v, A_h, f_h)\n",
    "print('U: ', U)"
   ]
  },
  {
   "cell_type": "code",
   "execution_count": null,
   "metadata": {},
   "outputs": [],
   "source": []
  },
  {
   "cell_type": "code",
   "execution_count": null,
   "metadata": {},
   "outputs": [],
   "source": []
  }
 ],
 "metadata": {
  "kernelspec": {
   "display_name": "Python 3",
   "language": "python",
   "name": "python3"
  },
  "language_info": {
   "codemirror_mode": {
    "name": "ipython",
    "version": 3
   },
   "file_extension": ".py",
   "mimetype": "text/x-python",
   "name": "python",
   "nbconvert_exporter": "python",
   "pygments_lexer": "ipython3",
   "version": "3.6.5"
  }
 },
 "nbformat": 4,
 "nbformat_minor": 2
}
